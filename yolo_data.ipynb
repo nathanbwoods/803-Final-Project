{
 "cells": [
  {
   "cell_type": "code",
   "execution_count": 1,
   "outputs": [],
   "source": [
    "import pandas as pd\n",
    "\n",
    "A = pd.read_csv(\"data/A.csv\").values\n",
    "import numpy as np\n",
    "\n",
    "x = np.array(A[:, 0:3].astype(np.float32))\n",
    "x = np.hstack([x, np.ones([len(x[:, 0]), 1])])\n",
    "\n",
    "y = np.array(A[:, 3:5].astype(np.float32))\n",
    "from homography import Transformer\n",
    "\n",
    "t = Transformer()\n",
    "t.fit_homography(x, y)\n",
    "import pickle\n",
    "\n",
    "with open('./transformer.pickle', 'wb') as f:\n",
    "    pickle.dump(t, f)"
   ],
   "metadata": {
    "collapsed": false
   }
  },
  {
   "cell_type": "code",
   "execution_count": 2,
   "metadata": {
    "collapsed": true
   },
   "outputs": [],
   "source": [
    "import pandas as pd\n",
    "\n",
    "A = pd.read_csv(\"data/units_6100_gt.csv\")"
   ]
  },
  {
   "cell_type": "code",
   "execution_count": 3,
   "outputs": [],
   "source": [
    "camera = A.loc[A['name']=='Camera']\n",
    "c_x, c_y = float(camera['pos.x']), float(camera['pos.y'])"
   ],
   "metadata": {
    "collapsed": false
   }
  },
  {
   "cell_type": "code",
   "execution_count": 4,
   "outputs": [],
   "source": [
    "A.drop(A[A['name']=='Camera'].index, inplace=True)"
   ],
   "metadata": {
    "collapsed": false
   }
  },
  {
   "cell_type": "code",
   "execution_count": 5,
   "outputs": [
    {
     "data": {
      "text/plain": "                             name  unit_type  owner      pos.x      pos.y  \\\n1                        Barracks         21      2  -5.960938   2.410156   \n2                          Bunker         24      1   3.039062  12.410156   \n3                          Bunker         24      2  -8.960938   4.410156   \n4                          Bunker         24      2  -2.960938  -0.589844   \n5                          Bunker         24      1   7.039062  10.410156   \n6                         Factory         27      1   3.039062  21.410156   \n7                         Factory         27      2   3.039062  -4.589844   \n8                         Factory         27      1   5.039062  16.410156   \n9                  FactoryTechLab         39      2   5.539062  -5.089844   \n10                LabMineralField        665     16 -19.460938   9.410156   \n11                LabMineralField        665     16   9.539062 -11.589844   \n12                LabMineralField        665     16 -15.460938  13.410156   \n13                LabMineralField        665     16 -15.460938  15.410156   \n14                LabMineralField        665     16   7.539062   7.410156   \n15                LabMineralField        665     16   4.539062   7.410156   \n16                LabMineralField        665     16  11.539062  11.410156   \n17                LabMineralField        665     16  11.539062  13.410156   \n18             LabMineralField750        666     16  10.539062 -12.589844   \n19             LabMineralField750        666     16 -16.460938  10.410156   \n20             LabMineralField750        666     16 -15.460938  11.410156   \n21             LabMineralField750        666     16 -14.460938  14.410156   \n22             LabMineralField750        666     16  11.539062   9.410156   \n23             LabMineralField750        666     16   5.539062   6.410156   \n24             LabMineralField750        666     16  12.539062  12.410156   \n25             LabMineralField750        666     16  10.539062   8.410156   \n26                      Liberator        689      2  -4.456299  -5.368164   \n27                         Marine         48      1   8.016357  12.283691   \n28                         Marine         48      1   9.366943  13.817627   \n29                         Marine         48      1   8.988281  14.452148   \n30                         Marine         48      1   7.597656  14.542969   \n31                         Marine         48      1   6.363770  13.944580   \n32                         Marine         48      1   6.240234  14.645508   \n33                         Marine         48      1   9.718262  14.463623   \n34                         Marine         48      1   7.368164  15.191162   \n35                         Marine         48      1  10.323730  14.136719   \n36                         Marine         48      1   7.853760  13.903809   \n37                         Marine         48      1   8.541748  13.928467   \n38                         Marine         48      1   7.103516  14.046143   \n39                         Marine         48      1   8.259521  14.732178   \n40                 OrbitalCommand        132      2   3.039062 -11.589844   \n41                            SCV         45      2 -10.784180   4.410156   \n42                      SiegeTank         33      2  -4.481445  -2.770264   \n43                SiegeTankSieged         32      2  -8.184326   0.050781   \n44            SpacePlatformGeyser        343     16  10.039062  -8.589844   \n45            SpacePlatformGeyser        343     16 -14.960938  18.410156   \n46            SpacePlatformGeyser        343     16  12.039062  16.410156   \n47                       Starport         28      2   0.039062  -6.589844   \n48                    SupplyDepot         19      2  -6.460938   4.910156   \n49                    SupplyDepot         19      2  -3.460938   1.910156   \n50  UnbuildableBricksDestructible        473     16  -0.460938   9.910156   \n\n        pos.z  radius  is_on_screen   feature_x   feature_y  wbs_expected  \n1   11.991103  1.8125          True   64.416667  102.291667          True  \n2    9.989228  1.8125          True  160.416667   -4.375000         False  \n3   11.989014  1.8125          True   32.416667   80.958333          True  \n4   11.985962  1.8125          True   96.416667  134.291667          True  \n5    9.987030  1.8125          True  203.083333   16.958333          True  \n6    9.989228  1.8125          True  160.416667 -100.375000         False  \n7   11.985962  1.8125          True  160.416667  176.958333          True  \n8    9.989228  1.8125          True  181.750000  -47.041667         False  \n9   11.985962  1.1250          True  187.083333  182.291667          True  \n10   7.988098  1.1250          True  -79.583333   27.625000         False  \n11  11.988958  1.1250          True  229.750000  251.625000          True  \n12   7.989224  1.1250          True  -36.916667  -15.041667         False  \n13   7.989224  1.1250          True  -36.916667  -36.375000         False  \n14   9.990082  1.1250          True  208.416667   48.958333          True  \n15   9.990082  1.1250          True  176.416667   48.958333          True  \n16   9.990876  1.1250          True  251.083333    6.291667          True  \n17   9.990876  1.1250          True  251.083333  -15.041667         False  \n18  11.988958  1.1250          True  240.416667  262.291667         False  \n19   7.988098  1.1250          True  -47.583333   16.958333         False  \n20   7.989224  1.1250          True  -36.916667    6.291667         False  \n21   7.989224  1.1250          True  -26.250000  -25.708333         False  \n22   9.990082  1.1250          True  251.083333   27.625000          True  \n23   9.990082  1.1250          True  187.083333   59.625000          True  \n24   9.990082  1.1250          True  261.750000   -4.375000         False  \n25   9.990082  1.1250          True  240.416667   38.291667          True  \n26  15.738281  0.7500          True   80.466146  185.260417          True  \n27   9.989228  0.3750          True  213.507812   -3.026042         False  \n28   9.989228  0.3750          True  227.914062  -19.388021         False  \n29   9.989228  0.3750          True  223.875000  -26.156250         False  \n30   9.989228  0.3750          True  209.041667  -27.125000         False  \n31   9.989228  0.3750          True  195.880208  -20.742188         False  \n32   9.989228  0.3750          True  194.562500  -28.218750         False  \n33   9.989524  0.3750          True  231.661458  -26.278646         False  \n34   9.989228  0.3750          True  206.593750  -34.039062         False  \n35   9.990520  0.3750          True  238.119792  -22.791667         False  \n36   9.989228  0.3750          True  211.773438  -20.307292         False  \n37   9.989228  0.3750          True  219.111979  -20.570312         False  \n38   9.989228  0.3750          True  203.770833  -21.825521         False  \n39   9.989228  0.3750          True  216.101562  -29.143229         False  \n40  11.988958  2.7500          True  160.416667  251.625000          True  \n41  11.985962  0.3750          True   12.968750   80.958333          True  \n42  11.988958  0.8750          True   80.197917  157.549479          True  \n43  11.988958  0.8750          True   40.700521  127.458333          True  \n44  11.988958  1.5000          True  235.083333  219.625000          True  \n45   7.989224  1.5000          True  -31.583333  -68.375000         False  \n46   9.990876  1.5000          True  256.416667  -47.041667         False  \n47  11.988958  1.8125          True  128.416667  198.291667          True  \n48  11.998932  1.2500          True   59.083333   75.625000          True  \n49  12.010376  1.2500          True   91.083333  107.625000          True  \n50   9.987030  1.1250          True  123.083333   22.291667          True  ",
      "text/html": "<div>\n<style scoped>\n    .dataframe tbody tr th:only-of-type {\n        vertical-align: middle;\n    }\n\n    .dataframe tbody tr th {\n        vertical-align: top;\n    }\n\n    .dataframe thead th {\n        text-align: right;\n    }\n</style>\n<table border=\"1\" class=\"dataframe\">\n  <thead>\n    <tr style=\"text-align: right;\">\n      <th></th>\n      <th>name</th>\n      <th>unit_type</th>\n      <th>owner</th>\n      <th>pos.x</th>\n      <th>pos.y</th>\n      <th>pos.z</th>\n      <th>radius</th>\n      <th>is_on_screen</th>\n      <th>feature_x</th>\n      <th>feature_y</th>\n      <th>wbs_expected</th>\n    </tr>\n  </thead>\n  <tbody>\n    <tr>\n      <th>1</th>\n      <td>Barracks</td>\n      <td>21</td>\n      <td>2</td>\n      <td>-5.960938</td>\n      <td>2.410156</td>\n      <td>11.991103</td>\n      <td>1.8125</td>\n      <td>True</td>\n      <td>64.416667</td>\n      <td>102.291667</td>\n      <td>True</td>\n    </tr>\n    <tr>\n      <th>2</th>\n      <td>Bunker</td>\n      <td>24</td>\n      <td>1</td>\n      <td>3.039062</td>\n      <td>12.410156</td>\n      <td>9.989228</td>\n      <td>1.8125</td>\n      <td>True</td>\n      <td>160.416667</td>\n      <td>-4.375000</td>\n      <td>False</td>\n    </tr>\n    <tr>\n      <th>3</th>\n      <td>Bunker</td>\n      <td>24</td>\n      <td>2</td>\n      <td>-8.960938</td>\n      <td>4.410156</td>\n      <td>11.989014</td>\n      <td>1.8125</td>\n      <td>True</td>\n      <td>32.416667</td>\n      <td>80.958333</td>\n      <td>True</td>\n    </tr>\n    <tr>\n      <th>4</th>\n      <td>Bunker</td>\n      <td>24</td>\n      <td>2</td>\n      <td>-2.960938</td>\n      <td>-0.589844</td>\n      <td>11.985962</td>\n      <td>1.8125</td>\n      <td>True</td>\n      <td>96.416667</td>\n      <td>134.291667</td>\n      <td>True</td>\n    </tr>\n    <tr>\n      <th>5</th>\n      <td>Bunker</td>\n      <td>24</td>\n      <td>1</td>\n      <td>7.039062</td>\n      <td>10.410156</td>\n      <td>9.987030</td>\n      <td>1.8125</td>\n      <td>True</td>\n      <td>203.083333</td>\n      <td>16.958333</td>\n      <td>True</td>\n    </tr>\n    <tr>\n      <th>6</th>\n      <td>Factory</td>\n      <td>27</td>\n      <td>1</td>\n      <td>3.039062</td>\n      <td>21.410156</td>\n      <td>9.989228</td>\n      <td>1.8125</td>\n      <td>True</td>\n      <td>160.416667</td>\n      <td>-100.375000</td>\n      <td>False</td>\n    </tr>\n    <tr>\n      <th>7</th>\n      <td>Factory</td>\n      <td>27</td>\n      <td>2</td>\n      <td>3.039062</td>\n      <td>-4.589844</td>\n      <td>11.985962</td>\n      <td>1.8125</td>\n      <td>True</td>\n      <td>160.416667</td>\n      <td>176.958333</td>\n      <td>True</td>\n    </tr>\n    <tr>\n      <th>8</th>\n      <td>Factory</td>\n      <td>27</td>\n      <td>1</td>\n      <td>5.039062</td>\n      <td>16.410156</td>\n      <td>9.989228</td>\n      <td>1.8125</td>\n      <td>True</td>\n      <td>181.750000</td>\n      <td>-47.041667</td>\n      <td>False</td>\n    </tr>\n    <tr>\n      <th>9</th>\n      <td>FactoryTechLab</td>\n      <td>39</td>\n      <td>2</td>\n      <td>5.539062</td>\n      <td>-5.089844</td>\n      <td>11.985962</td>\n      <td>1.1250</td>\n      <td>True</td>\n      <td>187.083333</td>\n      <td>182.291667</td>\n      <td>True</td>\n    </tr>\n    <tr>\n      <th>10</th>\n      <td>LabMineralField</td>\n      <td>665</td>\n      <td>16</td>\n      <td>-19.460938</td>\n      <td>9.410156</td>\n      <td>7.988098</td>\n      <td>1.1250</td>\n      <td>True</td>\n      <td>-79.583333</td>\n      <td>27.625000</td>\n      <td>False</td>\n    </tr>\n    <tr>\n      <th>11</th>\n      <td>LabMineralField</td>\n      <td>665</td>\n      <td>16</td>\n      <td>9.539062</td>\n      <td>-11.589844</td>\n      <td>11.988958</td>\n      <td>1.1250</td>\n      <td>True</td>\n      <td>229.750000</td>\n      <td>251.625000</td>\n      <td>True</td>\n    </tr>\n    <tr>\n      <th>12</th>\n      <td>LabMineralField</td>\n      <td>665</td>\n      <td>16</td>\n      <td>-15.460938</td>\n      <td>13.410156</td>\n      <td>7.989224</td>\n      <td>1.1250</td>\n      <td>True</td>\n      <td>-36.916667</td>\n      <td>-15.041667</td>\n      <td>False</td>\n    </tr>\n    <tr>\n      <th>13</th>\n      <td>LabMineralField</td>\n      <td>665</td>\n      <td>16</td>\n      <td>-15.460938</td>\n      <td>15.410156</td>\n      <td>7.989224</td>\n      <td>1.1250</td>\n      <td>True</td>\n      <td>-36.916667</td>\n      <td>-36.375000</td>\n      <td>False</td>\n    </tr>\n    <tr>\n      <th>14</th>\n      <td>LabMineralField</td>\n      <td>665</td>\n      <td>16</td>\n      <td>7.539062</td>\n      <td>7.410156</td>\n      <td>9.990082</td>\n      <td>1.1250</td>\n      <td>True</td>\n      <td>208.416667</td>\n      <td>48.958333</td>\n      <td>True</td>\n    </tr>\n    <tr>\n      <th>15</th>\n      <td>LabMineralField</td>\n      <td>665</td>\n      <td>16</td>\n      <td>4.539062</td>\n      <td>7.410156</td>\n      <td>9.990082</td>\n      <td>1.1250</td>\n      <td>True</td>\n      <td>176.416667</td>\n      <td>48.958333</td>\n      <td>True</td>\n    </tr>\n    <tr>\n      <th>16</th>\n      <td>LabMineralField</td>\n      <td>665</td>\n      <td>16</td>\n      <td>11.539062</td>\n      <td>11.410156</td>\n      <td>9.990876</td>\n      <td>1.1250</td>\n      <td>True</td>\n      <td>251.083333</td>\n      <td>6.291667</td>\n      <td>True</td>\n    </tr>\n    <tr>\n      <th>17</th>\n      <td>LabMineralField</td>\n      <td>665</td>\n      <td>16</td>\n      <td>11.539062</td>\n      <td>13.410156</td>\n      <td>9.990876</td>\n      <td>1.1250</td>\n      <td>True</td>\n      <td>251.083333</td>\n      <td>-15.041667</td>\n      <td>False</td>\n    </tr>\n    <tr>\n      <th>18</th>\n      <td>LabMineralField750</td>\n      <td>666</td>\n      <td>16</td>\n      <td>10.539062</td>\n      <td>-12.589844</td>\n      <td>11.988958</td>\n      <td>1.1250</td>\n      <td>True</td>\n      <td>240.416667</td>\n      <td>262.291667</td>\n      <td>False</td>\n    </tr>\n    <tr>\n      <th>19</th>\n      <td>LabMineralField750</td>\n      <td>666</td>\n      <td>16</td>\n      <td>-16.460938</td>\n      <td>10.410156</td>\n      <td>7.988098</td>\n      <td>1.1250</td>\n      <td>True</td>\n      <td>-47.583333</td>\n      <td>16.958333</td>\n      <td>False</td>\n    </tr>\n    <tr>\n      <th>20</th>\n      <td>LabMineralField750</td>\n      <td>666</td>\n      <td>16</td>\n      <td>-15.460938</td>\n      <td>11.410156</td>\n      <td>7.989224</td>\n      <td>1.1250</td>\n      <td>True</td>\n      <td>-36.916667</td>\n      <td>6.291667</td>\n      <td>False</td>\n    </tr>\n    <tr>\n      <th>21</th>\n      <td>LabMineralField750</td>\n      <td>666</td>\n      <td>16</td>\n      <td>-14.460938</td>\n      <td>14.410156</td>\n      <td>7.989224</td>\n      <td>1.1250</td>\n      <td>True</td>\n      <td>-26.250000</td>\n      <td>-25.708333</td>\n      <td>False</td>\n    </tr>\n    <tr>\n      <th>22</th>\n      <td>LabMineralField750</td>\n      <td>666</td>\n      <td>16</td>\n      <td>11.539062</td>\n      <td>9.410156</td>\n      <td>9.990082</td>\n      <td>1.1250</td>\n      <td>True</td>\n      <td>251.083333</td>\n      <td>27.625000</td>\n      <td>True</td>\n    </tr>\n    <tr>\n      <th>23</th>\n      <td>LabMineralField750</td>\n      <td>666</td>\n      <td>16</td>\n      <td>5.539062</td>\n      <td>6.410156</td>\n      <td>9.990082</td>\n      <td>1.1250</td>\n      <td>True</td>\n      <td>187.083333</td>\n      <td>59.625000</td>\n      <td>True</td>\n    </tr>\n    <tr>\n      <th>24</th>\n      <td>LabMineralField750</td>\n      <td>666</td>\n      <td>16</td>\n      <td>12.539062</td>\n      <td>12.410156</td>\n      <td>9.990082</td>\n      <td>1.1250</td>\n      <td>True</td>\n      <td>261.750000</td>\n      <td>-4.375000</td>\n      <td>False</td>\n    </tr>\n    <tr>\n      <th>25</th>\n      <td>LabMineralField750</td>\n      <td>666</td>\n      <td>16</td>\n      <td>10.539062</td>\n      <td>8.410156</td>\n      <td>9.990082</td>\n      <td>1.1250</td>\n      <td>True</td>\n      <td>240.416667</td>\n      <td>38.291667</td>\n      <td>True</td>\n    </tr>\n    <tr>\n      <th>26</th>\n      <td>Liberator</td>\n      <td>689</td>\n      <td>2</td>\n      <td>-4.456299</td>\n      <td>-5.368164</td>\n      <td>15.738281</td>\n      <td>0.7500</td>\n      <td>True</td>\n      <td>80.466146</td>\n      <td>185.260417</td>\n      <td>True</td>\n    </tr>\n    <tr>\n      <th>27</th>\n      <td>Marine</td>\n      <td>48</td>\n      <td>1</td>\n      <td>8.016357</td>\n      <td>12.283691</td>\n      <td>9.989228</td>\n      <td>0.3750</td>\n      <td>True</td>\n      <td>213.507812</td>\n      <td>-3.026042</td>\n      <td>False</td>\n    </tr>\n    <tr>\n      <th>28</th>\n      <td>Marine</td>\n      <td>48</td>\n      <td>1</td>\n      <td>9.366943</td>\n      <td>13.817627</td>\n      <td>9.989228</td>\n      <td>0.3750</td>\n      <td>True</td>\n      <td>227.914062</td>\n      <td>-19.388021</td>\n      <td>False</td>\n    </tr>\n    <tr>\n      <th>29</th>\n      <td>Marine</td>\n      <td>48</td>\n      <td>1</td>\n      <td>8.988281</td>\n      <td>14.452148</td>\n      <td>9.989228</td>\n      <td>0.3750</td>\n      <td>True</td>\n      <td>223.875000</td>\n      <td>-26.156250</td>\n      <td>False</td>\n    </tr>\n    <tr>\n      <th>30</th>\n      <td>Marine</td>\n      <td>48</td>\n      <td>1</td>\n      <td>7.597656</td>\n      <td>14.542969</td>\n      <td>9.989228</td>\n      <td>0.3750</td>\n      <td>True</td>\n      <td>209.041667</td>\n      <td>-27.125000</td>\n      <td>False</td>\n    </tr>\n    <tr>\n      <th>31</th>\n      <td>Marine</td>\n      <td>48</td>\n      <td>1</td>\n      <td>6.363770</td>\n      <td>13.944580</td>\n      <td>9.989228</td>\n      <td>0.3750</td>\n      <td>True</td>\n      <td>195.880208</td>\n      <td>-20.742188</td>\n      <td>False</td>\n    </tr>\n    <tr>\n      <th>32</th>\n      <td>Marine</td>\n      <td>48</td>\n      <td>1</td>\n      <td>6.240234</td>\n      <td>14.645508</td>\n      <td>9.989228</td>\n      <td>0.3750</td>\n      <td>True</td>\n      <td>194.562500</td>\n      <td>-28.218750</td>\n      <td>False</td>\n    </tr>\n    <tr>\n      <th>33</th>\n      <td>Marine</td>\n      <td>48</td>\n      <td>1</td>\n      <td>9.718262</td>\n      <td>14.463623</td>\n      <td>9.989524</td>\n      <td>0.3750</td>\n      <td>True</td>\n      <td>231.661458</td>\n      <td>-26.278646</td>\n      <td>False</td>\n    </tr>\n    <tr>\n      <th>34</th>\n      <td>Marine</td>\n      <td>48</td>\n      <td>1</td>\n      <td>7.368164</td>\n      <td>15.191162</td>\n      <td>9.989228</td>\n      <td>0.3750</td>\n      <td>True</td>\n      <td>206.593750</td>\n      <td>-34.039062</td>\n      <td>False</td>\n    </tr>\n    <tr>\n      <th>35</th>\n      <td>Marine</td>\n      <td>48</td>\n      <td>1</td>\n      <td>10.323730</td>\n      <td>14.136719</td>\n      <td>9.990520</td>\n      <td>0.3750</td>\n      <td>True</td>\n      <td>238.119792</td>\n      <td>-22.791667</td>\n      <td>False</td>\n    </tr>\n    <tr>\n      <th>36</th>\n      <td>Marine</td>\n      <td>48</td>\n      <td>1</td>\n      <td>7.853760</td>\n      <td>13.903809</td>\n      <td>9.989228</td>\n      <td>0.3750</td>\n      <td>True</td>\n      <td>211.773438</td>\n      <td>-20.307292</td>\n      <td>False</td>\n    </tr>\n    <tr>\n      <th>37</th>\n      <td>Marine</td>\n      <td>48</td>\n      <td>1</td>\n      <td>8.541748</td>\n      <td>13.928467</td>\n      <td>9.989228</td>\n      <td>0.3750</td>\n      <td>True</td>\n      <td>219.111979</td>\n      <td>-20.570312</td>\n      <td>False</td>\n    </tr>\n    <tr>\n      <th>38</th>\n      <td>Marine</td>\n      <td>48</td>\n      <td>1</td>\n      <td>7.103516</td>\n      <td>14.046143</td>\n      <td>9.989228</td>\n      <td>0.3750</td>\n      <td>True</td>\n      <td>203.770833</td>\n      <td>-21.825521</td>\n      <td>False</td>\n    </tr>\n    <tr>\n      <th>39</th>\n      <td>Marine</td>\n      <td>48</td>\n      <td>1</td>\n      <td>8.259521</td>\n      <td>14.732178</td>\n      <td>9.989228</td>\n      <td>0.3750</td>\n      <td>True</td>\n      <td>216.101562</td>\n      <td>-29.143229</td>\n      <td>False</td>\n    </tr>\n    <tr>\n      <th>40</th>\n      <td>OrbitalCommand</td>\n      <td>132</td>\n      <td>2</td>\n      <td>3.039062</td>\n      <td>-11.589844</td>\n      <td>11.988958</td>\n      <td>2.7500</td>\n      <td>True</td>\n      <td>160.416667</td>\n      <td>251.625000</td>\n      <td>True</td>\n    </tr>\n    <tr>\n      <th>41</th>\n      <td>SCV</td>\n      <td>45</td>\n      <td>2</td>\n      <td>-10.784180</td>\n      <td>4.410156</td>\n      <td>11.985962</td>\n      <td>0.3750</td>\n      <td>True</td>\n      <td>12.968750</td>\n      <td>80.958333</td>\n      <td>True</td>\n    </tr>\n    <tr>\n      <th>42</th>\n      <td>SiegeTank</td>\n      <td>33</td>\n      <td>2</td>\n      <td>-4.481445</td>\n      <td>-2.770264</td>\n      <td>11.988958</td>\n      <td>0.8750</td>\n      <td>True</td>\n      <td>80.197917</td>\n      <td>157.549479</td>\n      <td>True</td>\n    </tr>\n    <tr>\n      <th>43</th>\n      <td>SiegeTankSieged</td>\n      <td>32</td>\n      <td>2</td>\n      <td>-8.184326</td>\n      <td>0.050781</td>\n      <td>11.988958</td>\n      <td>0.8750</td>\n      <td>True</td>\n      <td>40.700521</td>\n      <td>127.458333</td>\n      <td>True</td>\n    </tr>\n    <tr>\n      <th>44</th>\n      <td>SpacePlatformGeyser</td>\n      <td>343</td>\n      <td>16</td>\n      <td>10.039062</td>\n      <td>-8.589844</td>\n      <td>11.988958</td>\n      <td>1.5000</td>\n      <td>True</td>\n      <td>235.083333</td>\n      <td>219.625000</td>\n      <td>True</td>\n    </tr>\n    <tr>\n      <th>45</th>\n      <td>SpacePlatformGeyser</td>\n      <td>343</td>\n      <td>16</td>\n      <td>-14.960938</td>\n      <td>18.410156</td>\n      <td>7.989224</td>\n      <td>1.5000</td>\n      <td>True</td>\n      <td>-31.583333</td>\n      <td>-68.375000</td>\n      <td>False</td>\n    </tr>\n    <tr>\n      <th>46</th>\n      <td>SpacePlatformGeyser</td>\n      <td>343</td>\n      <td>16</td>\n      <td>12.039062</td>\n      <td>16.410156</td>\n      <td>9.990876</td>\n      <td>1.5000</td>\n      <td>True</td>\n      <td>256.416667</td>\n      <td>-47.041667</td>\n      <td>False</td>\n    </tr>\n    <tr>\n      <th>47</th>\n      <td>Starport</td>\n      <td>28</td>\n      <td>2</td>\n      <td>0.039062</td>\n      <td>-6.589844</td>\n      <td>11.988958</td>\n      <td>1.8125</td>\n      <td>True</td>\n      <td>128.416667</td>\n      <td>198.291667</td>\n      <td>True</td>\n    </tr>\n    <tr>\n      <th>48</th>\n      <td>SupplyDepot</td>\n      <td>19</td>\n      <td>2</td>\n      <td>-6.460938</td>\n      <td>4.910156</td>\n      <td>11.998932</td>\n      <td>1.2500</td>\n      <td>True</td>\n      <td>59.083333</td>\n      <td>75.625000</td>\n      <td>True</td>\n    </tr>\n    <tr>\n      <th>49</th>\n      <td>SupplyDepot</td>\n      <td>19</td>\n      <td>2</td>\n      <td>-3.460938</td>\n      <td>1.910156</td>\n      <td>12.010376</td>\n      <td>1.2500</td>\n      <td>True</td>\n      <td>91.083333</td>\n      <td>107.625000</td>\n      <td>True</td>\n    </tr>\n    <tr>\n      <th>50</th>\n      <td>UnbuildableBricksDestructible</td>\n      <td>473</td>\n      <td>16</td>\n      <td>-0.460938</td>\n      <td>9.910156</td>\n      <td>9.987030</td>\n      <td>1.1250</td>\n      <td>True</td>\n      <td>123.083333</td>\n      <td>22.291667</td>\n      <td>True</td>\n    </tr>\n  </tbody>\n</table>\n</div>"
     },
     "execution_count": 5,
     "metadata": {},
     "output_type": "execute_result"
    }
   ],
   "source": [
    "A['pos.x'] -= c_x\n",
    "A['pos.y'] -= c_y\n",
    "A"
   ],
   "metadata": {
    "collapsed": false
   }
  },
  {
   "cell_type": "code",
   "execution_count": 6,
   "outputs": [],
   "source": [
    "from homography import Transformer\n",
    "import pickle\n",
    "\n",
    "with open(\"./transformer.pickle\", 'rb') as f:\n",
    "    t = pickle.load(f)\n",
    "\n",
    "uv = t.homography_transform(A[['pos.x', 'pos.y', 'pos.z']].values)"
   ],
   "metadata": {
    "collapsed": false
   }
  },
  {
   "cell_type": "code",
   "execution_count": 7,
   "outputs": [],
   "source": [
    "A['u'] = uv[:, 0]\n",
    "A['v'] = uv[:, 1]"
   ],
   "metadata": {
    "collapsed": false
   }
  },
  {
   "cell_type": "code",
   "execution_count": 8,
   "outputs": [],
   "source": [
    "A['w'] = A['radius']*t.x_scale\n",
    "A['h'] = A['radius']*t.y_scale"
   ],
   "metadata": {
    "collapsed": false
   }
  },
  {
   "cell_type": "code",
   "execution_count": 9,
   "outputs": [],
   "source": [
    "yolo_data = A[['unit_type', 'u', 'v', 'w', 'h']].values"
   ],
   "metadata": {
    "collapsed": false
   }
  },
  {
   "cell_type": "code",
   "execution_count": 10,
   "outputs": [
    {
     "data": {
      "text/plain": "True"
     },
     "execution_count": 10,
     "metadata": {},
     "output_type": "execute_result"
    }
   ],
   "source": [
    "import pybboxes as pbx\n",
    "import cv2\n",
    "import matplotlib.pyplot as plt\n",
    "\n",
    "img = cv2.imread(\"data/tick_6100.png\")\n",
    "\n",
    "for box in yolo_data.tolist():\n",
    "    b = pbx.YoloBoundingBox(box[1], box[2], box[3], box[4], (t.image_size, t.image_size))\n",
    "    b = pbx.convert_bbox(b, to_type=\"voc\")\n",
    "    cv2.rectangle(img, (b[0], b[1]), (b[2], b[3]), (0, 0, 255), 1)\n",
    "\n",
    "\n",
    "cv2.imwrite(\"tick_6100_boxes.png\", img)"
   ],
   "metadata": {
    "collapsed": false
   }
  },
  {
   "cell_type": "code",
   "execution_count": null,
   "outputs": [],
   "source": [],
   "metadata": {
    "collapsed": false
   }
  }
 ],
 "metadata": {
  "kernelspec": {
   "display_name": "Python 3",
   "language": "python",
   "name": "python3"
  },
  "language_info": {
   "codemirror_mode": {
    "name": "ipython",
    "version": 2
   },
   "file_extension": ".py",
   "mimetype": "text/x-python",
   "name": "python",
   "nbconvert_exporter": "python",
   "pygments_lexer": "ipython2",
   "version": "2.7.6"
  }
 },
 "nbformat": 4,
 "nbformat_minor": 0
}
