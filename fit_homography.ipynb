{
 "cells": [
  {
   "cell_type": "code",
   "execution_count": 6,
   "outputs": [
    {
     "name": "stdout",
     "output_type": "stream",
     "text": [
      "Homography Residuals: [0.00242039]\n",
      "Least Squares Check: b, A @ X, b - A @ X\n",
      "[[ 1.89453125e-01  1.85412303e-01  4.04082185e-03]\n",
      " [ 1.03515625e-01  9.34743404e-02  1.00412846e-02]\n",
      " [ 4.60937500e-01  4.49132447e-01  1.18050527e-02]\n",
      " [ 4.29687500e-01  4.21947030e-01  7.74047024e-03]\n",
      " [ 4.16015625e-01  4.10748497e-01  5.26712799e-03]\n",
      " [ 6.26953125e-01  6.10679390e-01  1.62737352e-02]\n",
      " [ 8.33984375e-01  8.38516184e-01 -4.53180865e-03]\n",
      " [ 8.78906250e-02  9.37170243e-02 -5.82639928e-03]\n",
      " [ 4.55078125e-01  4.59626799e-01 -4.54867440e-03]\n",
      " [ 8.32031250e-01  8.57598957e-01 -2.55677070e-02]\n",
      " [ 4.45312500e-01  4.44487474e-01  8.25025896e-04]\n",
      " [ 5.17578125e-01  5.06008184e-01  1.15699411e-02]\n",
      " [ 5.21484375e-01  5.24569517e-01 -3.08514181e-03]\n",
      " [ 8.32031250e-01  8.15979829e-01  1.60514213e-02]\n",
      " [ 4.70703125e-01  4.67775204e-01  2.92792143e-03]\n",
      " [ 4.35546875e-01  4.45569965e-01 -1.00230898e-02]\n",
      " [ 2.20703125e-01  2.33403450e-01 -1.27003250e-02]\n",
      " [ 2.57812500e-01  2.78072156e-01 -2.02596563e-02]]\n"
     ]
    }
   ],
   "source": [
    "import pandas as pd\n",
    "\n",
    "A = pd.read_csv(\"A.csv\").values\n",
    "import numpy as np\n",
    "\n",
    "x = np.array(A[:, 0:3].astype(np.float32))\n",
    "x = np.hstack([x, np.ones([len(x[:, 0]), 1])])\n",
    "\n",
    "y = np.array(A[:, 3:5].astype(np.float32))\n",
    "from homography import Transformer\n",
    "\n",
    "t = Transformer(img_size=512)\n",
    "t.fit_homography(x, y)\n",
    "import pickle\n",
    "\n",
    "with open('./transformer.pickle', 'wb') as f:\n",
    "    pickle.dump(t, f)"
   ],
   "metadata": {
    "collapsed": false
   }
  },
  {
   "cell_type": "code",
   "execution_count": null,
   "outputs": [],
   "source": [],
   "metadata": {
    "collapsed": false
   }
  }
 ],
 "metadata": {
  "kernelspec": {
   "display_name": "Python 3",
   "language": "python",
   "name": "python3"
  },
  "language_info": {
   "codemirror_mode": {
    "name": "ipython",
    "version": 2
   },
   "file_extension": ".py",
   "mimetype": "text/x-python",
   "name": "python",
   "nbconvert_exporter": "python",
   "pygments_lexer": "ipython2",
   "version": "2.7.6"
  }
 },
 "nbformat": 4,
 "nbformat_minor": 0
}
