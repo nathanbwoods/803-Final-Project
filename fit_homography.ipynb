{
 "cells": [
  {
   "cell_type": "code",
   "execution_count": 1,
   "outputs": [
    {
     "name": "stderr",
     "output_type": "stream",
     "text": [
      "C:\\Users\\natha\\Documents\\School\\FS22\\CSE803\\Project\\py-sc\\803-Final-Project\\homography.py:28: FutureWarning: `rcond` parameter will change to the default of machine precision times ``max(M, N)`` where M and N are the input matrix dimensions.\n",
      "To use the future default and silence this warning we advise to pass `rcond=None`, to keep using the old, explicitly pass `rcond=-1`.\n",
      "  self.H = np.linalg.lstsq(x, y)[0]\n"
     ]
    }
   ],
   "source": [],
   "metadata": {
    "collapsed": false
   }
  },
  {
   "cell_type": "code",
   "execution_count": 19,
   "outputs": [],
   "source": [
    "    with open(\"./transformer.pickle\", 'rb') as f:\n",
    "        transformer = pickle.load(f)"
   ],
   "metadata": {
    "collapsed": false
   }
  },
  {
   "cell_type": "code",
   "execution_count": 20,
   "outputs": [
    {
     "data": {
      "text/plain": "0.05"
     },
     "execution_count": 20,
     "metadata": {},
     "output_type": "execute_result"
    }
   ],
   "source": [
    "transformer.x_scale"
   ],
   "metadata": {
    "collapsed": false
   }
  },
  {
   "cell_type": "code",
   "execution_count": 21,
   "outputs": [
    {
     "data": {
      "text/plain": "0.05"
     },
     "execution_count": 21,
     "metadata": {},
     "output_type": "execute_result"
    }
   ],
   "source": [
    "transformer.y_scale"
   ],
   "metadata": {
    "collapsed": false
   }
  },
  {
   "cell_type": "code",
   "execution_count": 13,
   "outputs": [
    {
     "data": {
      "text/plain": "array([[ 3.7407227 ,  1.7524414 , 11.988958  ],\n       [ 2.7407227 ,  1.7526855 , 11.988958  ],\n       [ 1.7409668 ,  1.7531738 , 11.988958  ],\n       [ 0.74121094,  1.7539062 , 11.988958  ],\n       [-0.25830078,  1.7546387 , 11.988958  ],\n       [-1.2575684 ,  1.7558594 , 11.988958  ],\n       [-1.2561035 ,  0.7573242 , 11.988958  ],\n       [-1.2548828 , -0.24169922, 11.988958  ],\n       [-1.2539062 , -1.2412109 , 11.988958  ],\n       [-1.253418  , -2.2409668 , 11.988958  ],\n       [-1.2529297 , -3.2407227 , 11.988958  ],\n       [-1.2524414 , -4.2407227 , 11.988958  ]], dtype=float32)"
     },
     "execution_count": 13,
     "metadata": {},
     "output_type": "execute_result"
    }
   ],
   "source": [
    "x"
   ],
   "metadata": {
    "collapsed": false
   }
  },
  {
   "cell_type": "code",
   "execution_count": 6,
   "outputs": [
    {
     "ename": "AttributeError",
     "evalue": "'tuple' object has no attribute 'T'",
     "output_type": "error",
     "traceback": [
      "\u001B[1;31m---------------------------------------------------------------------------\u001B[0m",
      "\u001B[1;31mAttributeError\u001B[0m                            Traceback (most recent call last)",
      "\u001B[1;32m~\\AppData\\Local\\Temp\\ipykernel_10504\\4121064065.py\u001B[0m in \u001B[0;36m<module>\u001B[1;34m\u001B[0m\n\u001B[1;32m----> 1\u001B[1;33m \u001B[0mt\u001B[0m\u001B[1;33m.\u001B[0m\u001B[0mhomography_transform\u001B[0m\u001B[1;33m(\u001B[0m\u001B[0mx\u001B[0m\u001B[1;33m)\u001B[0m\u001B[1;33m\u001B[0m\u001B[1;33m\u001B[0m\u001B[0m\n\u001B[0m",
      "\u001B[1;32m~\\Documents\\School\\FS22\\CSE803\\Project\\py-sc\\803-Final-Project\\homography.py\u001B[0m in \u001B[0;36mhomography_transform\u001B[1;34m(self, X)\u001B[0m\n\u001B[0;32m     15\u001B[0m         \u001B[1;31m# Y = np.array([np.matmul(self.H, X[i]) for i in range(n)])\u001B[0m\u001B[1;33m\u001B[0m\u001B[1;33m\u001B[0m\u001B[1;33m\u001B[0m\u001B[0m\n\u001B[0;32m     16\u001B[0m         \u001B[1;31m# Should be same result as above, but in matrix form.\u001B[0m\u001B[1;33m\u001B[0m\u001B[1;33m\u001B[0m\u001B[1;33m\u001B[0m\u001B[0m\n\u001B[1;32m---> 17\u001B[1;33m         \u001B[0mY\u001B[0m \u001B[1;33m=\u001B[0m \u001B[0mX\u001B[0m\u001B[1;33m.\u001B[0m\u001B[0mdot\u001B[0m\u001B[1;33m(\u001B[0m \u001B[0mself\u001B[0m\u001B[1;33m.\u001B[0m\u001B[0mH\u001B[0m\u001B[1;33m.\u001B[0m\u001B[0mT\u001B[0m \u001B[1;33m)\u001B[0m\u001B[1;33m\u001B[0m\u001B[1;33m\u001B[0m\u001B[0m\n\u001B[0m\u001B[0;32m     18\u001B[0m         \u001B[0mYn\u001B[0m \u001B[1;33m=\u001B[0m \u001B[0mY\u001B[0m\u001B[1;33m[\u001B[0m\u001B[1;33m:\u001B[0m\u001B[1;33m,\u001B[0m \u001B[1;36m0\u001B[0m\u001B[1;33m:\u001B[0m\u001B[1;36m2\u001B[0m\u001B[1;33m]\u001B[0m \u001B[1;33m/\u001B[0m \u001B[0mY\u001B[0m\u001B[1;33m[\u001B[0m\u001B[1;33m:\u001B[0m\u001B[1;33m,\u001B[0m \u001B[1;36m2\u001B[0m\u001B[1;33m:\u001B[0m\u001B[1;36m3\u001B[0m\u001B[1;33m]\u001B[0m \u001B[1;31m# Y, normalized\u001B[0m\u001B[1;33m\u001B[0m\u001B[1;33m\u001B[0m\u001B[0m\n\u001B[0;32m     19\u001B[0m         \u001B[1;32mreturn\u001B[0m \u001B[0mYn\u001B[0m\u001B[1;33m\u001B[0m\u001B[1;33m\u001B[0m\u001B[0m\n",
      "\u001B[1;31mAttributeError\u001B[0m: 'tuple' object has no attribute 'T'"
     ]
    }
   ],
   "source": [
    "t.homography_transform(x)"
   ],
   "metadata": {
    "collapsed": false
   }
  },
  {
   "cell_type": "code",
   "execution_count": 25,
   "outputs": [
    {
     "data": {
      "text/plain": "array([[1.4355469 , 0.80859375],\n       [1.3183594 , 0.80859375],\n       [1.2011719 , 0.80859375],\n       [1.0839844 , 0.80859375],\n       [0.9667969 , 0.80859375],\n       [0.8496094 , 0.80859375],\n       [0.8496094 , 0.9160156 ],\n       [0.8496094 , 1.0019531 ],\n       [0.8496094 , 1.1132812 ],\n       [0.8496094 , 1.2109375 ],\n       [0.8496094 , 1.3203125 ],\n       [0.8496094 , 1.4492188 ],\n       [0.18945312, 0.10351562],\n       [0.4609375 , 0.4296875 ],\n       [0.41601562, 0.6269531 ],\n       [0.8339844 , 0.08789062],\n       [0.45507812, 0.83203125],\n       [0.4453125 , 0.5175781 ],\n       [0.5214844 , 0.83203125],\n       [0.47070312, 0.43554688],\n       [0.22070312, 0.2578125 ]], dtype=float32)"
     },
     "execution_count": 25,
     "metadata": {},
     "output_type": "execute_result"
    }
   ],
   "source": [
    "y"
   ],
   "metadata": {
    "collapsed": false
   }
  },
  {
   "cell_type": "code",
   "execution_count": 26,
   "outputs": [
    {
     "name": "stderr",
     "output_type": "stream",
     "text": [
      "C:\\Users\\natha\\AppData\\Local\\Temp\\ipykernel_18752\\1483668873.py:1: FutureWarning: `rcond` parameter will change to the default of machine precision times ``max(M, N)`` where M and N are the input matrix dimensions.\n",
      "To use the future default and silence this warning we advise to pass `rcond=None`, to keep using the old, explicitly pass `rcond=-1`.\n",
      "  np.linalg.lstsq(x, y)\n"
     ]
    },
    {
     "data": {
      "text/plain": "(array([[ 0.07231373, -0.03198319],\n        [ 0.01374402, -0.05186034],\n        [ 0.06692821,  0.06332152]], dtype=float32),\n array([1.3110583, 1.790185 ], dtype=float32),\n 3,\n array([54.17134 , 18.383343, 11.046874], dtype=float32))"
     },
     "execution_count": 26,
     "metadata": {},
     "output_type": "execute_result"
    }
   ],
   "source": [
    "np.linalg.lstsq(x, y)"
   ],
   "metadata": {
    "collapsed": false
   }
  },
  {
   "cell_type": "code",
   "execution_count": 4,
   "outputs": [
    {
     "name": "stdout",
     "output_type": "stream",
     "text": [
      "[[ 0.5         0.78838324  0.09291739  0.08501939]\n",
      " [ 0.16183196  0.37358682  0.21769888  0.16211465]\n",
      " [ 0.64486819  0.0443201   0.1628077   0.12255345]\n",
      " [ 0.00598491  0.28445264  0.21946854  0.15321592]\n",
      " [ 0.32440848  0.51769777  0.21861342  0.17697172]\n",
      " [ 0.84390385  0.11522838  0.15796831  0.12867804]\n",
      " [ 0.63055795 -0.2359458   0.14759637  0.0997488 ]\n",
      " [ 0.69185174  0.73128526  0.21144319  0.20019938]\n",
      " [ 0.7290464  -0.08747573  0.15192955  0.11154339]\n",
      " [ 0.85251674  0.75993734  0.12795663  0.12764753]\n",
      " [-0.42637363  0.21659022  0.13066724  0.08124112]\n",
      " [ 1.17889209  1.17976565  0.12970245  0.1592763 ]\n",
      " [-0.20183658  0.07694133  0.11890153  0.07392474]\n",
      " [-0.18592489  0.01188221  0.11583911  0.07063144]\n",
      " [ 0.88268569  0.22826651  0.10156162  0.08689001]\n",
      " [ 0.7304049   0.22826651  0.10594151  0.08689001]\n",
      " [ 1.05684778  0.07924402  0.09185697  0.07858676]\n",
      " [ 1.04344648  0.01012465  0.09003379  0.07487427]\n",
      " [ 1.26395385  1.25334121  0.12858326  0.16516958]\n",
      " [-0.27415257  0.18042882  0.12505733  0.07931326]\n",
      " [-0.218504    0.14509049  0.12212741  0.07745387]\n",
      " [-0.14891571  0.0440388   0.11620778  0.07224995]\n",
      " [ 1.07091783  0.15188528  0.09375085  0.08258184]\n",
      " [ 0.78485956  0.2679626   0.1057268   0.08917164]\n",
      " [ 1.09772626  0.04429073  0.08964682  0.07669643]\n",
      " [ 1.02811713  0.18958692  0.09614964  0.08469485]\n",
      " [ 0.18505523  0.66186173  0.11301126  0.09232271]\n",
      " [ 0.88271662  0.04869673  0.03215794  0.02587728]\n",
      " [ 0.93898217 -0.00349423  0.03106686  0.02493748]\n",
      " [ 0.91805989 -0.02452698  0.03101929  0.02456363]\n",
      " [ 0.85299887 -0.02751152  0.03156269  0.02451081]\n",
      " [ 0.79778613 -0.00772794  0.03228038  0.024862  ]\n",
      " [ 0.78957875 -0.03087343  0.03208596  0.02445138]\n",
      " [ 0.95195321 -0.02491472  0.03071453  0.02455699]\n",
      " [ 0.83972232 -0.048627    0.03143952  0.02413872]\n",
      " [ 0.98199188 -0.01415605  0.03056679  0.02474861]\n",
      " [ 0.86768758 -0.00636967  0.03167174  0.0248862 ]\n",
      " [ 0.89977891 -0.0071913   0.0313759   0.02487156]\n",
      " [ 0.83199848 -0.01110566  0.03193636  0.02480186]\n",
      " [ 0.88289001 -0.03370868  0.03122791  0.02440131]\n",
      " [ 0.7162878   1.17976565  0.3521914   0.37838507]\n",
      " [-0.09449049  0.28455799  0.04737464  0.03233731]\n",
      " [ 0.22513765  0.63071593  0.11331768  0.09261629]\n",
      " [ 0.01928012  0.48577647  0.11391874  0.08498874]\n",
      " [ 1.17751683  0.97426353  0.16319523  0.1899579 ]\n",
      " [-0.14191262 -0.08035725  0.14740589  0.08776267]\n",
      " [ 1.04723945 -0.08753372  0.11529025  0.09264179]\n",
      " [ 0.50254735  0.84868039  0.22940462  0.21357845]\n",
      " [ 0.14622447  0.26258667  0.14669904  0.10502774]\n",
      " [ 0.30213869  0.39606162  0.14745827  0.11436144]\n",
      " [ 0.47734     0.13349265  0.10970748  0.08155294]]\n",
      "data/units_6100_gt.csv\n",
      "Validating boxes using data/tick_6100.png, output to data/units_6100_gt.png\n"
     ]
    }
   ],
   "source": [
    "import os\n",
    "import pathlib\n",
    "import pandas as pd\n",
    "import pickle\n",
    "from absl import app\n",
    "import numpy as np\n",
    "import cv2\n",
    "import pybboxes as pbx\n",
    "\n",
    "from homography import Transformer\n",
    "import HarvestAgent\n",
    "from UnitId import sc_to_enumerate\n",
    "\n",
    "\n",
    "def val_boxes(yolo_data, image_path, output_path):\n",
    "    print(F\"Validating boxes using {image_path}, output to {output_path}\")\n",
    "    img = cv2.imread(str(image_path))\n",
    "\n",
    "    for box in yolo_data.tolist():\n",
    "        if 0 < box[3] and 0 < box[4]:\n",
    "            b = pbx.YoloBoundingBox(box[1], box[2], box[3], box[4], img.shape[0:2])\n",
    "            b = pbx.convert_bbox(b, to_type=\"voc\")\n",
    "            cv2.rectangle(img, (b[0], b[1]), (b[2], b[3]), (0, 0, 255), 1)\n",
    "\n",
    "    cv2.imwrite(str(output_path), img)\n",
    "\n",
    "\n",
    "def convert_truth(truth_file, image_file, transformer):\n",
    "    truth_path = os.fsdecode(truth_file)\n",
    "    image_path = os.fsdecode(image_file)\n",
    "    yolo_file_path = os.path.splitext(truth_path)[0] + '.txt'\n",
    "\n",
    "    truth = pd.read_csv(truth_path)\n",
    "\n",
    "    # Center observation to camera\n",
    "    camera = truth.loc[truth['name'] == 'Camera']\n",
    "    c_x, c_y = float(camera['pos.x']), float(camera['pos.y'])\n",
    "    truth['pos.x'] -= c_x\n",
    "    truth['pos.y'] -= c_y\n",
    "    truth['pos.z'] -= 11.62\n",
    "\n",
    "    # Transform to camera plane\n",
    "    uvwh = transformer.homography_transform(truth[['pos.x', 'pos.y', 'pos.z', 'radius']].values)\n",
    "    print(uvwh)\n",
    "    truth['u'] = uvwh[:, 0]\n",
    "    truth['v'] = uvwh[:, 1]\n",
    "    truth['w'] = uvwh[:, 2]\n",
    "    truth['h'] = uvwh[:, 3]\n",
    "\n",
    "    # Drop camera row\n",
    "    truth.drop(truth[truth['name'] == 'Camera'].index, inplace=True)\n",
    "\n",
    "    # scId -> enumerated id\n",
    "    truth['ind_type'] = truth['sc_type'].map(sc_to_enumerate)\n",
    "\n",
    "\n",
    "    # Output the data\n",
    "    yolo_data = truth[['ind_type', 'u', 'v', 'w', 'h']].values\n",
    "    col_format = '%d', '%1.6f', '%1.6f', '%1.6f', '%1.6f'\n",
    "    np.savetxt(yolo_file_path, yolo_data, fmt=col_format)\n",
    "\n",
    "    # Visualize validation boxes\n",
    "    print(truth_path)\n",
    "    vis_output_path = os.path.splitext(truth_path)[0] + '.png'\n",
    "    val_boxes(yolo_data, image_path, vis_output_path)\n",
    "\n",
    "\n",
    "t = Transformer(H=np.array([[2.11552, 0.27027, -0.42066, 18.15], [0, -1.50956, -1.56417, 18.15], [0, 0.54053, -0.84132, 36.3]]), x_scale=0.05, y_scale=0.05, img_size=1024)\n",
    "convert_truth('data/units_6100_gt.csv', 'data/tick_6100.png', t)"
   ],
   "metadata": {
    "collapsed": false
   }
  },
  {
   "cell_type": "code",
   "execution_count": null,
   "outputs": [],
   "source": [],
   "metadata": {
    "collapsed": false
   }
  }
 ],
 "metadata": {
  "kernelspec": {
   "display_name": "Python 3",
   "language": "python",
   "name": "python3"
  },
  "language_info": {
   "codemirror_mode": {
    "name": "ipython",
    "version": 2
   },
   "file_extension": ".py",
   "mimetype": "text/x-python",
   "name": "python",
   "nbconvert_exporter": "python",
   "pygments_lexer": "ipython2",
   "version": "2.7.6"
  }
 },
 "nbformat": 4,
 "nbformat_minor": 0
}
