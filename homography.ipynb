{
 "cells": [
  {
   "cell_type": "code",
   "execution_count": 172,
   "outputs": [],
   "source": [
    "import pandas as pd\n",
    "A = pd.read_csv(\"A.csv\").values"
   ],
   "metadata": {
    "collapsed": false
   }
  },
  {
   "cell_type": "code",
   "execution_count": 173,
   "outputs": [],
   "source": [
    "import numpy as np\n",
    "\n",
    "x = np.array(A[:, 0:3].astype(np.float32))\n",
    "x = np.hstack([x, np.ones([len(x[:,0]), 1])])\n",
    "\n",
    "y = np.array(A[:, 3:5].astype(np.float32))"
   ],
   "metadata": {
    "collapsed": false
   }
  },
  {
   "cell_type": "code",
   "execution_count": 174,
   "outputs": [],
   "source": [
    "from homography import Transformer\n",
    "\n",
    "t = Transformer()\n",
    "t.fit_homography(x, y)"
   ],
   "metadata": {
    "collapsed": false
   }
  },
  {
   "cell_type": "code",
   "execution_count": 175,
   "outputs": [],
   "source": [
    "import pickle\n",
    "with open('./transformer.pickle', 'wb') as f:\n",
    "    pickle.dump(t, f)"
   ],
   "metadata": {
    "collapsed": false
   }
  },
  {
   "cell_type": "code",
   "execution_count": null,
   "outputs": [],
   "source": [],
   "metadata": {
    "collapsed": false
   }
  }
 ],
 "metadata": {
  "kernelspec": {
   "display_name": "Python 3",
   "language": "python",
   "name": "python3"
  },
  "language_info": {
   "codemirror_mode": {
    "name": "ipython",
    "version": 2
   },
   "file_extension": ".py",
   "mimetype": "text/x-python",
   "name": "python",
   "nbconvert_exporter": "python",
   "pygments_lexer": "ipython2",
   "version": "2.7.6"
  }
 },
 "nbformat": 4,
 "nbformat_minor": 0
}
